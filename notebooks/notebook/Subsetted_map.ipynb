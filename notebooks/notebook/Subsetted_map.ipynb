{
 "cells": [
  {
   "cell_type": "markdown",
   "metadata": {},
   "source": [
    "Import PyOphidia and connect to server instance"
   ]
  },
  {
   "cell_type": "code",
   "execution_count": null,
   "metadata": {
    "collapsed": true
   },
   "outputs": [],
   "source": [
    "from PyOphidia import cube, client\n",
    "cube.Cube.setclient(read_env=True)"
   ]
  },
  {
   "cell_type": "markdown",
   "metadata": {},
   "source": [
    "Import data, subset over space and time, compute average over time and extract values"
   ]
  },
  {
   "cell_type": "code",
   "execution_count": null,
   "metadata": {
    "collapsed": true,
    "scrolled": true
   },
   "outputs": [],
   "source": [
    "mycube = cube.Cube.importnc(src_path='/public/data/tos_O1_2001-2002.nc',measure='tos',imp_dim='time',ncores=5)\n",
    "mycube2 = mycube.subset2(subset_dims=\"lat|lon|time\",subset_filter=\"-30:30|30:120|0:30\",ncores=5)\n",
    "mycube3 = mycube2.reduce(operation='max',ncores=5)\n",
    "mycube4 = mycube3.rollup()\n",
    "data = mycube4.export_array()"
   ]
  },
  {
   "cell_type": "markdown",
   "metadata": {},
   "source": [
    "Plot output on map"
   ]
  },
  {
   "cell_type": "code",
   "execution_count": null,
   "metadata": {
    "collapsed": true
   },
   "outputs": [],
   "source": [
    "import matplotlib.pyplot as plt\n",
    "from mpl_toolkits.basemap import Basemap, cm\n",
    "import numpy as np\n",
    "\n",
    "lat = data['dimension'][0]['values'][:]\n",
    "lon = data['dimension'][1]['values'][:]\n",
    "var = data['measure'][0]['values'][:]\n",
    "\n",
    "fig = plt.figure(figsize=(15, 15), dpi=100)\n",
    "ax  = fig.add_axes([0.1,0.1,0.8,0.8])\n",
    "\n",
    "map = Basemap(projection='cyl',llcrnrlat= -90,urcrnrlat= 90, llcrnrlon=0,urcrnrlon=360, resolution='c')\n",
    "\n",
    "map.drawcoastlines()\n",
    "map.drawparallels(np.arange( -90, 90,30),labels=[1,0,0,0])\n",
    "map.drawmeridians(np.arange(-180,180,30),labels=[0,0,0,1])\n",
    "\n",
    "x, y = map(*np.meshgrid(lon,lat))\n",
    "\n",
    "cnplot = map.contourf(x,y,var,np.arange(290,305,0.5),cmap=plt.cm.jet)\n",
    "cbar = map.colorbar(cnplot,location='right',format='%.6f')\n",
    "\n",
    "plt.title('Sea Surface Temperature (deg K)')\n",
    "plt.show()"
   ]
  }
 ],
 "metadata": {
  "kernelspec": {
   "display_name": "Python 2",
   "language": "python",
   "name": "python2"
  },
  "language_info": {
   "codemirror_mode": {
    "name": "ipython",
    "version": 3
   },
   "file_extension": ".py",
   "mimetype": "text/x-python",
   "name": "python",
   "nbconvert_exporter": "python",
   "pygments_lexer": "ipython3",
   "version": "3.4.5"
  }
 },
 "nbformat": 4,
 "nbformat_minor": 2
}
